{
 "cells": [
  {
   "cell_type": "code",
   "execution_count": null,
   "metadata": {
    "scrolled": true
   },
   "outputs": [],
   "source": [
    "import pandas as pd\n",
    "\n",
    "train_df = pd.read_csv(\"esun_train.csv\",encoding=\"utf-8\")\n",
    "test_df = pd.read_csv(\"test.csv\",encoding=\"utf-8\")\n",
    "train_df"
   ]
  },
  {
   "cell_type": "code",
   "execution_count": null,
   "metadata": {},
   "outputs": [],
   "source": [
    "train_df = train_df.fillna(\"N\")"
   ]
  },
  {
   "cell_type": "code",
   "execution_count": null,
   "metadata": {},
   "outputs": [],
   "source": [
    "# column=list(train_df.columns)\n",
    "# column.remove(\"fraud_ind\")\n",
    "# print(column)"
   ]
  },
  {
   "cell_type": "code",
   "execution_count": null,
   "metadata": {},
   "outputs": [],
   "source": [
    "train_df[\"ecfg\"] = train_df[\"ecfg\"].apply(lambda x: 1 if x =='Y' else 0)\n",
    "train_df[\"flbmk\"] = train_df[\"flbmk\"].apply(lambda x: 1 if x =='Y' else 0)\n",
    "train_df[\"flg_3dsmk\"] = train_df[\"flg_3dsmk\"].apply(lambda x: 1 if x =='Y' else 0)\n",
    "train_df[\"insfg\"] = train_df[\"insfg\"].apply(lambda x: 1 if x =='Y' else 0)\n",
    "train_df[\"ovrlt\"] = train_df[\"ovrlt\"].apply(lambda x: 1 if x =='Y' else 0)"
   ]
  },
  {
   "cell_type": "code",
   "execution_count": null,
   "metadata": {
    "scrolled": false
   },
   "outputs": [],
   "source": [
    "project=train_df\n",
    "column=[\"acqic\",\"contp\",\"etymd\",\"mchno\",\"mcc\",\"iterm\",\n",
    "        \"scity\",\"stocn\",\"hcefg\",\"csmcu\",\"stscd\",\"locdt\",\"loctm\",\n",
    "        \"conam\"]\n",
    "for col in column:\n",
    "    '''col是欄位，可以修改'''\n",
    "#     col=\"csmcu\"\n",
    "    col_count=train_df[col].value_counts()\n",
    "    bad=[]\n",
    "    # 取出每個類別值，算出盜刷率\n",
    "    for i in col_count.index:\n",
    "        find=train_df[train_df[col]==i]\n",
    "        true=find[find.fraud_ind == 1]\n",
    "        present=len(true)/len(find)\n",
    "        bad.append(present)\n",
    "    cat=\"category_\"+col\n",
    "    bad_per=\"bad_percent_\"+col\n",
    "    test = pd.DataFrame(columns=[cat, bad_per])\n",
    "    test[cat]=col_count.index\n",
    "    test[bad_per]=bad\n",
    "    # test.acount=col_count.values\n",
    "    '''  >0.03 取盜刷率d大於百分之三的類別值，可以修改'''\n",
    "    #test[test[\"bad_percent\"]>0.03]\n",
    "    #test.sort_values(by=['bad_percent'],ascending= False)\n",
    "\n",
    "    #train_df[\"csmcu_bad\"]=bad\n",
    "    project=pd.merge(project,test, how='left',\n",
    "                     left_on=col,right_on=cat)\n",
    "\n",
    "    project.drop(columns=[cat])\n",
    "    print(cat)"
   ]
  },
  {
   "cell_type": "code",
   "execution_count": null,
   "metadata": {
    "scrolled": true
   },
   "outputs": [],
   "source": [
    "project = project.drop(columns=['category_acqic', 'category_contp',\n",
    "       'category_etymd','category_mchno',  'category_mcc',\n",
    "       'category_iterm','category_scity',  'category_stocn',\n",
    "        'category_hcefg','category_csmcu',  'category_stscd',\n",
    "        'category_locdt','category_loctm',  'category_conam',])\n",
    "project.columns"
   ]
  },
  {
   "cell_type": "code",
   "execution_count": null,
   "metadata": {
    "scrolled": true
   },
   "outputs": [],
   "source": [
    "train_df = train_df.drop(columns=[\"acqic\",\"contp\",\"etymd\",\"mchno\",\"mcc\",\"iterm\",\n",
    "        \"scity\",\"stocn\",\"hcefg\",\"csmcu\",\"stscd\",\"locdt\",\"loctm\",\n",
    "        \"conam\",\"bacno\",\"cano\",\"txkey\"])\n",
    "train_df.columns()\n"
   ]
  },
  {
   "cell_type": "code",
   "execution_count": null,
   "metadata": {},
   "outputs": [],
   "source": [
    "train_df.columns"
   ]
  },
  {
   "cell_type": "code",
   "execution_count": null,
   "metadata": {},
   "outputs": [],
   "source": [
    "project.to_csv('esun_train.csv', encoding='utf-8', index=False)"
   ]
  },
  {
   "cell_type": "code",
   "execution_count": 1,
   "metadata": {},
   "outputs": [],
   "source": [
    "import pandas as pd\n",
    "from datetime import datetime\n",
    "import numpy as np\n",
    "import statistics as st\n",
    "import matplotlib.pyplot as plt\n",
    "import seaborn as sns\n",
    "import pickle\n",
    "import numpy as np\n",
    "import warnings\n",
    "from sklearn.model_selection import train_test_split\n",
    "import xgboost as xgb\n",
    "import re\n",
    "from sklearn.model_selection import GridSearchCV\n",
    "import warnings\n",
    "from sklearn.metrics import accuracy_score\n",
    "warnings.filterwarnings(\"ignore\")"
   ]
  },
  {
   "cell_type": "code",
   "execution_count": 5,
   "metadata": {},
   "outputs": [
    {
     "name": "stdout",
     "output_type": "stream",
     "text": [
      "Index(['ecfg', 'flbmk', 'flg_3dsmk', 'fraud_ind', 'insfg', 'ovrlt',\n",
      "       'bad_percent_acqic', 'bad_percent_contp', 'bad_percent_etymd',\n",
      "       'bad_percent_mchno', 'bad_percent_mcc', 'bad_percent_iterm',\n",
      "       'bad_percent_scity', 'bad_percent_stocn', 'bad_percent_hcefg',\n",
      "       'bad_percent_csmcu', 'bad_percent_stscd', 'bad_percent_loctm',\n",
      "       'bad_percent_conam'],\n",
      "      dtype='object')\n"
     ]
    }
   ],
   "source": [
    "data = pd.read_table(\"esun_train_v1.csv\", sep=\",\", encoding=\"utf-8\")\n",
    "print(data.columns)"
   ]
  },
  {
   "cell_type": "code",
   "execution_count": 6,
   "metadata": {},
   "outputs": [],
   "source": [
    "from sklearn.model_selection import train_test_split\n",
    "\n",
    "X_train, X_test, y_train, y_test = train_test_split(data.drop([\"fraud_ind\"],axis=1)\n",
    "                                                    , data[\"fraud_ind\"], test_size=0.1, random_state=42)"
   ]
  },
  {
   "cell_type": "code",
   "execution_count": null,
   "metadata": {},
   "outputs": [],
   "source": [
    "from sklearn.neighbors import KNeighborsClassifier\n",
    "from sklearn.preprocessing import MinMaxScaler\n",
    "scaler = MinMaxScaler()\n",
    "x_train_scale = scaler.fit_transform(X_train)\n",
    "# x_test_scale = scaler.transform(test)"
   ]
  },
  {
   "cell_type": "code",
   "execution_count": null,
   "metadata": {},
   "outputs": [],
   "source": [
    "# X_train = np.matrix(X_train)\n",
    "# X_test = np.matrix(X_test)\n",
    "#\n",
    "# MR_params = {'n_estimators': [150,160,170,180]}\n",
    "# MR_params = {'gamma': [0.1, 0.2, 0.3, 0.4, 0.5, 0.6]}\n",
    "# MR_params = {'subsample': [0.6, 0.7, 0.8, 0.9], 'colsample_bytree': [0.6, 0.7, 0.8, 0.9]}\n",
    "# MR_params = {'reg_alpha': [0.05, 0.1, 1, 2, 3], 'reg_lambda': [0.05, 0.1, 1, 2, 3]}\n",
    "MR_params = {'learning_rate': [0.01, 0.05, 0.1, 0.2]}\n",
    "other_params = {'learning_rate' :1, 'n_estimators':100, 'max_depth':5,\n",
    "                'min_child_weight':1, 'gamma':0, 'subsample':0.8, 'colsample_bytree':0.8, \n",
    "                'objective':\"binary:logitraw\", 'nthread':4, 'scale_pos_weight':1, 'seed':27}\n",
    "gbm = xgb.XGBClassifier(**other_params)\n",
    "optimized_GBM = GridSearchCV(estimator=gbm, param_grid=MR_params, \n",
    "                             scoring='f1', cv=5, verbose=1, n_jobs=-1)\n",
    "optimized_GBM.fit(X_train, y_train)\n",
    "evalute_result = optimized_GBM.cv_results_\n",
    "# print('每輪迭代執行結果:{0}'.format(evalute_result))\n",
    "print('引數的最佳取值：{0}'.format(optimized_GBM.best_params_))\n",
    "# print('最佳模型得分:{0}'.format(optimized_GBM.best_score_))"
   ]
  },
  {
   "cell_type": "code",
   "execution_count": 7,
   "metadata": {},
   "outputs": [],
   "source": [
    "gbm = xgb.XGBClassifier(learning_rate =0.1, n_estimators=100, max_depth=5,\n",
    "                min_child_weight=1, gamma=0, subsample=0.8, colsample_bytree=0.8, \n",
    "                objective=\"binary:logitraw\", nthread=4, scale_pos_weight=1, seed=27).fit(X_train, y_train)\n",
    "#比較一下調完跟預設值的差異\n",
    "# gbm = xgb.XGBRegressor(objective=\"reg:linear\", n_estimators=50, learning_rate=0.2).fit(X_train, y_train)\n",
    "predictions = gbm.predict(X_test)"
   ]
  },
  {
   "cell_type": "code",
   "execution_count": 8,
   "metadata": {},
   "outputs": [
    {
     "data": {
      "text/plain": [
       "array([0, 0, 0, ..., 0, 0, 0], dtype=int64)"
      ]
     },
     "execution_count": 8,
     "metadata": {},
     "output_type": "execute_result"
    }
   ],
   "source": [
    "predictions"
   ]
  },
  {
   "cell_type": "code",
   "execution_count": 9,
   "metadata": {},
   "outputs": [],
   "source": [
    "from sklearn.metrics import confusion_matrix\n",
    "\n",
    "\n",
    "C=confusion_matrix(y_test, predictions)"
   ]
  },
  {
   "cell_type": "code",
   "execution_count": 10,
   "metadata": {},
   "outputs": [
    {
     "data": {
      "text/plain": [
       "array([[111129,     93],\n",
       "       [   442,   1028]], dtype=int64)"
      ]
     },
     "execution_count": 10,
     "metadata": {},
     "output_type": "execute_result"
    }
   ],
   "source": [
    "C"
   ]
  },
  {
   "cell_type": "code",
   "execution_count": 12,
   "metadata": {},
   "outputs": [],
   "source": [
    "data_pre = pd.read_table(\"esun_test_v1.csv\", sep=\",\", encoding=\"utf-8\")\n",
    "submit_01 = gbm.predict(data_pre)"
   ]
  },
  {
   "cell_type": "code",
   "execution_count": 22,
   "metadata": {},
   "outputs": [
    {
     "data": {
      "text/plain": [
       "0    420989\n",
       "1       676\n",
       "dtype: int64"
      ]
     },
     "execution_count": 22,
     "metadata": {},
     "output_type": "execute_result"
    }
   ],
   "source": [
    "pd.Series(submit_01).value_counts()"
   ]
  },
  {
   "cell_type": "code",
   "execution_count": 26,
   "metadata": {},
   "outputs": [
    {
     "data": {
      "text/html": [
       "<div>\n",
       "<style scoped>\n",
       "    .dataframe tbody tr th:only-of-type {\n",
       "        vertical-align: middle;\n",
       "    }\n",
       "\n",
       "    .dataframe tbody tr th {\n",
       "        vertical-align: top;\n",
       "    }\n",
       "\n",
       "    .dataframe thead th {\n",
       "        text-align: right;\n",
       "    }\n",
       "</style>\n",
       "<table border=\"1\" class=\"dataframe\">\n",
       "  <thead>\n",
       "    <tr style=\"text-align: right;\">\n",
       "      <th></th>\n",
       "      <th>txkey</th>\n",
       "      <th>fraud_ind</th>\n",
       "    </tr>\n",
       "  </thead>\n",
       "  <tbody>\n",
       "    <tr>\n",
       "      <th>0</th>\n",
       "      <td>592489</td>\n",
       "      <td>0</td>\n",
       "    </tr>\n",
       "    <tr>\n",
       "      <th>1</th>\n",
       "      <td>592452</td>\n",
       "      <td>0</td>\n",
       "    </tr>\n",
       "    <tr>\n",
       "      <th>2</th>\n",
       "      <td>590212</td>\n",
       "      <td>0</td>\n",
       "    </tr>\n",
       "    <tr>\n",
       "      <th>3</th>\n",
       "      <td>590209</td>\n",
       "      <td>0</td>\n",
       "    </tr>\n",
       "    <tr>\n",
       "      <th>4</th>\n",
       "      <td>592488</td>\n",
       "      <td>0</td>\n",
       "    </tr>\n",
       "    <tr>\n",
       "      <th>5</th>\n",
       "      <td>592460</td>\n",
       "      <td>0</td>\n",
       "    </tr>\n",
       "    <tr>\n",
       "      <th>6</th>\n",
       "      <td>590160</td>\n",
       "      <td>0</td>\n",
       "    </tr>\n",
       "    <tr>\n",
       "      <th>7</th>\n",
       "      <td>592453</td>\n",
       "      <td>0</td>\n",
       "    </tr>\n",
       "    <tr>\n",
       "      <th>8</th>\n",
       "      <td>585745</td>\n",
       "      <td>0</td>\n",
       "    </tr>\n",
       "    <tr>\n",
       "      <th>9</th>\n",
       "      <td>592451</td>\n",
       "      <td>0</td>\n",
       "    </tr>\n",
       "    <tr>\n",
       "      <th>10</th>\n",
       "      <td>592456</td>\n",
       "      <td>0</td>\n",
       "    </tr>\n",
       "    <tr>\n",
       "      <th>11</th>\n",
       "      <td>1176112</td>\n",
       "      <td>0</td>\n",
       "    </tr>\n",
       "    <tr>\n",
       "      <th>12</th>\n",
       "      <td>900425</td>\n",
       "      <td>0</td>\n",
       "    </tr>\n",
       "    <tr>\n",
       "      <th>13</th>\n",
       "      <td>1611461</td>\n",
       "      <td>0</td>\n",
       "    </tr>\n",
       "    <tr>\n",
       "      <th>14</th>\n",
       "      <td>215591</td>\n",
       "      <td>0</td>\n",
       "    </tr>\n",
       "    <tr>\n",
       "      <th>15</th>\n",
       "      <td>1751664</td>\n",
       "      <td>0</td>\n",
       "    </tr>\n",
       "    <tr>\n",
       "      <th>16</th>\n",
       "      <td>185563</td>\n",
       "      <td>0</td>\n",
       "    </tr>\n",
       "    <tr>\n",
       "      <th>17</th>\n",
       "      <td>608423</td>\n",
       "      <td>0</td>\n",
       "    </tr>\n",
       "    <tr>\n",
       "      <th>18</th>\n",
       "      <td>1041457</td>\n",
       "      <td>0</td>\n",
       "    </tr>\n",
       "    <tr>\n",
       "      <th>19</th>\n",
       "      <td>899509</td>\n",
       "      <td>0</td>\n",
       "    </tr>\n",
       "    <tr>\n",
       "      <th>20</th>\n",
       "      <td>605308</td>\n",
       "      <td>0</td>\n",
       "    </tr>\n",
       "    <tr>\n",
       "      <th>21</th>\n",
       "      <td>602666</td>\n",
       "      <td>0</td>\n",
       "    </tr>\n",
       "    <tr>\n",
       "      <th>22</th>\n",
       "      <td>268390</td>\n",
       "      <td>0</td>\n",
       "    </tr>\n",
       "    <tr>\n",
       "      <th>23</th>\n",
       "      <td>1390047</td>\n",
       "      <td>0</td>\n",
       "    </tr>\n",
       "    <tr>\n",
       "      <th>24</th>\n",
       "      <td>1616943</td>\n",
       "      <td>0</td>\n",
       "    </tr>\n",
       "    <tr>\n",
       "      <th>25</th>\n",
       "      <td>602665</td>\n",
       "      <td>0</td>\n",
       "    </tr>\n",
       "    <tr>\n",
       "      <th>26</th>\n",
       "      <td>1831585</td>\n",
       "      <td>0</td>\n",
       "    </tr>\n",
       "    <tr>\n",
       "      <th>27</th>\n",
       "      <td>1186182</td>\n",
       "      <td>0</td>\n",
       "    </tr>\n",
       "    <tr>\n",
       "      <th>28</th>\n",
       "      <td>1402780</td>\n",
       "      <td>0</td>\n",
       "    </tr>\n",
       "    <tr>\n",
       "      <th>29</th>\n",
       "      <td>1045947</td>\n",
       "      <td>0</td>\n",
       "    </tr>\n",
       "    <tr>\n",
       "      <th>...</th>\n",
       "      <td>...</td>\n",
       "      <td>...</td>\n",
       "    </tr>\n",
       "    <tr>\n",
       "      <th>421635</th>\n",
       "      <td>1034535</td>\n",
       "      <td>0</td>\n",
       "    </tr>\n",
       "    <tr>\n",
       "      <th>421636</th>\n",
       "      <td>1323068</td>\n",
       "      <td>0</td>\n",
       "    </tr>\n",
       "    <tr>\n",
       "      <th>421637</th>\n",
       "      <td>1037920</td>\n",
       "      <td>0</td>\n",
       "    </tr>\n",
       "    <tr>\n",
       "      <th>421638</th>\n",
       "      <td>1537063</td>\n",
       "      <td>0</td>\n",
       "    </tr>\n",
       "    <tr>\n",
       "      <th>421639</th>\n",
       "      <td>47480</td>\n",
       "      <td>0</td>\n",
       "    </tr>\n",
       "    <tr>\n",
       "      <th>421640</th>\n",
       "      <td>1608577</td>\n",
       "      <td>0</td>\n",
       "    </tr>\n",
       "    <tr>\n",
       "      <th>421641</th>\n",
       "      <td>1037924</td>\n",
       "      <td>0</td>\n",
       "    </tr>\n",
       "    <tr>\n",
       "      <th>421642</th>\n",
       "      <td>1462822</td>\n",
       "      <td>0</td>\n",
       "    </tr>\n",
       "    <tr>\n",
       "      <th>421643</th>\n",
       "      <td>1932478</td>\n",
       "      <td>0</td>\n",
       "    </tr>\n",
       "    <tr>\n",
       "      <th>421644</th>\n",
       "      <td>1935813</td>\n",
       "      <td>0</td>\n",
       "    </tr>\n",
       "    <tr>\n",
       "      <th>421645</th>\n",
       "      <td>1951795</td>\n",
       "      <td>0</td>\n",
       "    </tr>\n",
       "    <tr>\n",
       "      <th>421646</th>\n",
       "      <td>1036006</td>\n",
       "      <td>0</td>\n",
       "    </tr>\n",
       "    <tr>\n",
       "      <th>421647</th>\n",
       "      <td>1938590</td>\n",
       "      <td>0</td>\n",
       "    </tr>\n",
       "    <tr>\n",
       "      <th>421648</th>\n",
       "      <td>1953793</td>\n",
       "      <td>0</td>\n",
       "    </tr>\n",
       "    <tr>\n",
       "      <th>421649</th>\n",
       "      <td>1331090</td>\n",
       "      <td>0</td>\n",
       "    </tr>\n",
       "    <tr>\n",
       "      <th>421650</th>\n",
       "      <td>1944814</td>\n",
       "      <td>0</td>\n",
       "    </tr>\n",
       "    <tr>\n",
       "      <th>421651</th>\n",
       "      <td>1946378</td>\n",
       "      <td>0</td>\n",
       "    </tr>\n",
       "    <tr>\n",
       "      <th>421652</th>\n",
       "      <td>270871</td>\n",
       "      <td>0</td>\n",
       "    </tr>\n",
       "    <tr>\n",
       "      <th>421653</th>\n",
       "      <td>358272</td>\n",
       "      <td>0</td>\n",
       "    </tr>\n",
       "    <tr>\n",
       "      <th>421654</th>\n",
       "      <td>329145</td>\n",
       "      <td>0</td>\n",
       "    </tr>\n",
       "    <tr>\n",
       "      <th>421655</th>\n",
       "      <td>385657</td>\n",
       "      <td>0</td>\n",
       "    </tr>\n",
       "    <tr>\n",
       "      <th>421656</th>\n",
       "      <td>214574</td>\n",
       "      <td>0</td>\n",
       "    </tr>\n",
       "    <tr>\n",
       "      <th>421657</th>\n",
       "      <td>1043700</td>\n",
       "      <td>0</td>\n",
       "    </tr>\n",
       "    <tr>\n",
       "      <th>421658</th>\n",
       "      <td>966092</td>\n",
       "      <td>0</td>\n",
       "    </tr>\n",
       "    <tr>\n",
       "      <th>421659</th>\n",
       "      <td>963833</td>\n",
       "      <td>0</td>\n",
       "    </tr>\n",
       "    <tr>\n",
       "      <th>421660</th>\n",
       "      <td>1187507</td>\n",
       "      <td>0</td>\n",
       "    </tr>\n",
       "    <tr>\n",
       "      <th>421661</th>\n",
       "      <td>1182598</td>\n",
       "      <td>0</td>\n",
       "    </tr>\n",
       "    <tr>\n",
       "      <th>421662</th>\n",
       "      <td>898724</td>\n",
       "      <td>0</td>\n",
       "    </tr>\n",
       "    <tr>\n",
       "      <th>421663</th>\n",
       "      <td>971467</td>\n",
       "      <td>0</td>\n",
       "    </tr>\n",
       "    <tr>\n",
       "      <th>421664</th>\n",
       "      <td>101230</td>\n",
       "      <td>0</td>\n",
       "    </tr>\n",
       "  </tbody>\n",
       "</table>\n",
       "<p>421665 rows × 2 columns</p>\n",
       "</div>"
      ],
      "text/plain": [
       "          txkey  fraud_ind\n",
       "0        592489          0\n",
       "1        592452          0\n",
       "2        590212          0\n",
       "3        590209          0\n",
       "4        592488          0\n",
       "5        592460          0\n",
       "6        590160          0\n",
       "7        592453          0\n",
       "8        585745          0\n",
       "9        592451          0\n",
       "10       592456          0\n",
       "11      1176112          0\n",
       "12       900425          0\n",
       "13      1611461          0\n",
       "14       215591          0\n",
       "15      1751664          0\n",
       "16       185563          0\n",
       "17       608423          0\n",
       "18      1041457          0\n",
       "19       899509          0\n",
       "20       605308          0\n",
       "21       602666          0\n",
       "22       268390          0\n",
       "23      1390047          0\n",
       "24      1616943          0\n",
       "25       602665          0\n",
       "26      1831585          0\n",
       "27      1186182          0\n",
       "28      1402780          0\n",
       "29      1045947          0\n",
       "...         ...        ...\n",
       "421635  1034535          0\n",
       "421636  1323068          0\n",
       "421637  1037920          0\n",
       "421638  1537063          0\n",
       "421639    47480          0\n",
       "421640  1608577          0\n",
       "421641  1037924          0\n",
       "421642  1462822          0\n",
       "421643  1932478          0\n",
       "421644  1935813          0\n",
       "421645  1951795          0\n",
       "421646  1036006          0\n",
       "421647  1938590          0\n",
       "421648  1953793          0\n",
       "421649  1331090          0\n",
       "421650  1944814          0\n",
       "421651  1946378          0\n",
       "421652   270871          0\n",
       "421653   358272          0\n",
       "421654   329145          0\n",
       "421655   385657          0\n",
       "421656   214574          0\n",
       "421657  1043700          0\n",
       "421658   966092          0\n",
       "421659   963833          0\n",
       "421660  1187507          0\n",
       "421661  1182598          0\n",
       "421662   898724          0\n",
       "421663   971467          0\n",
       "421664   101230          0\n",
       "\n",
       "[421665 rows x 2 columns]"
      ]
     },
     "execution_count": 26,
     "metadata": {},
     "output_type": "execute_result"
    }
   ],
   "source": [
    "test_ori = pd.read_csv(\"test.csv\")\n",
    "test_sub = pd.DataFrame()\n",
    "test_sub[\"txkey\"]=test_ori.txkey\n",
    "test_sub[\"fraud_ind\"]=pd.Series(submit_01)\n",
    "#submit_01.to_csv(\"result.csv\",encoding = \"utf-8\")\n"
   ]
  },
  {
   "cell_type": "code",
   "execution_count": 27,
   "metadata": {},
   "outputs": [],
   "source": [
    "test_sub.to_csv(\"result.csv\",encoding = \"utf-8\")"
   ]
  },
  {
   "cell_type": "code",
   "execution_count": null,
   "metadata": {},
   "outputs": [],
   "source": []
  },
  {
   "cell_type": "code",
   "execution_count": null,
   "metadata": {},
   "outputs": [],
   "source": [
    "# '''col是欄位，可以修改'''\n",
    "# col=\"csmcu\"\n",
    "# col_count=train_df[col].value_counts()\n",
    "# '''取前500筆，可以修改'''\n",
    "# head=100\n",
    "# bad=[]\n",
    "# # 取出每個類別值，算出盜刷率\n",
    "# for i in col_count.index[0:head]:\n",
    "#     find=train_df[train_df[col]==i]\n",
    "#     true=find[find.fraud_ind == 1]\n",
    "#     present=len(true)/len(find)\n",
    "#     bad.append(present)\n",
    "\n",
    "# test = pd.DataFrame(columns=[\"category\", \"bad_percent\",\"acount\"])\n",
    "# test.category=col_count.index[0:head]\n",
    "# test.bad_percent=bad\n",
    "# test.acount=col_count.values[0:head]\n",
    "# '''  >0.03 取盜刷率d大於百分之三的類別值，可以修改'''\n",
    "# test[test[\"bad_percent\"]>0.03]\n",
    "# test.sort_values(by=['bad_percent'])"
   ]
  },
  {
   "cell_type": "code",
   "execution_count": null,
   "metadata": {
    "scrolled": true
   },
   "outputs": [],
   "source": [
    "# heatmap API: https://seaborn.pydata.org/generated/seaborn.heatmap.html\n",
    "# colormap: https://matplotlib.org/3.1.0/tutorials/colors/colormaps.html\n",
    "# import matplotlib.pyplot as plt\n",
    "# %matplotlib inline\n",
    "# import seaborn as sns\n",
    "# plt.figure(figsize=(14, 14))\n",
    "# sns.heatmap(train_df.corr(), annot=True, cmap=\"RdBu_r\")"
   ]
  },
  {
   "cell_type": "code",
   "execution_count": null,
   "metadata": {},
   "outputs": [],
   "source": [
    "# from sklearn.tree import DecisionTreeClassifier\n",
    "# clf = DecisionTreeClassifier(max_depth=11, min_samples_leaf=20)\n",
    "# clf = clf.fit(X_train,y_train)"
   ]
  },
  {
   "cell_type": "code",
   "execution_count": null,
   "metadata": {},
   "outputs": [],
   "source": [
    "# from sklearn.tree import export_graphviz\n",
    "# import graphviz\n",
    "# data = export_graphviz(clf, out_file = None,\n",
    "#                       feature_names = X_train.drop([\"fraud_ind\"],axis = 1).columns,\n",
    "#                       class_name = [\"Y\",\"N\"],\n",
    "#                       filled = True, rounded = True,\n",
    "#                       special_characters = True)\n",
    "# graph = graphviz.Source(data)\n",
    "# graph"
   ]
  },
  {
   "cell_type": "code",
   "execution_count": null,
   "metadata": {},
   "outputs": [],
   "source": [
    "# from sklearn.ensemble import RandomForestClassifier\n",
    "# from sklearn.model_selection import GridSearchCV\n",
    "# clf = RandomForestClassifier()\n",
    "# grid = {\n",
    "#     \"n_estimators\":range(20, 30, 1),\n",
    "#     \"max_depth\":range(8, 12)\n",
    "# }\n",
    "# gridsearch = GridSearchCV(clf, param_grid=grid, cv=10, n_jobs=8)\n",
    "# gridsearch.fit(X_train, y_train)\n",
    "# gridsearch.best_params_"
   ]
  },
  {
   "cell_type": "code",
   "execution_count": null,
   "metadata": {},
   "outputs": [],
   "source": [
    "# ## from sklearn.ensemble import RandomForestClassifier\n",
    "# from sklearn.model_selection import cross_val_score\n",
    "# import numpy as np\n",
    "# clf = RandomForestClassifier(n_estimators=25, max_depth=11)\n",
    "# scores = cross_val_score(clf, X_train, y_train, cv=10)\n",
    "# print(\"十次:\", scores)\n",
    "# print(\"平均:\", np.average(scores))"
   ]
  },
  {
   "cell_type": "code",
   "execution_count": null,
   "metadata": {},
   "outputs": [],
   "source": [
    "# clf = RandomForestClassifier(n_estimators=25, max_depth=11)\n",
    "# clf.fit(X_train, y_train)"
   ]
  },
  {
   "cell_type": "code",
   "execution_count": null,
   "metadata": {},
   "outputs": [],
   "source": [
    "# pre = clf.predict(X_test)"
   ]
  },
  {
   "cell_type": "code",
   "execution_count": null,
   "metadata": {},
   "outputs": [],
   "source": [
    "# from sklearn.metrics import classification_report \n",
    "# print(classification_report(y_test, pre))"
   ]
  },
  {
   "cell_type": "code",
   "execution_count": null,
   "metadata": {},
   "outputs": [],
   "source": []
  },
  {
   "cell_type": "code",
   "execution_count": null,
   "metadata": {},
   "outputs": [],
   "source": []
  },
  {
   "cell_type": "code",
   "execution_count": null,
   "metadata": {},
   "outputs": [],
   "source": []
  },
  {
   "cell_type": "code",
   "execution_count": null,
   "metadata": {},
   "outputs": [],
   "source": []
  },
  {
   "cell_type": "code",
   "execution_count": null,
   "metadata": {},
   "outputs": [],
   "source": []
  }
 ],
 "metadata": {
  "kernelspec": {
   "display_name": "Python 3",
   "language": "python",
   "name": "python3"
  },
  "language_info": {
   "codemirror_mode": {
    "name": "ipython",
    "version": 3
   },
   "file_extension": ".py",
   "mimetype": "text/x-python",
   "name": "python",
   "nbconvert_exporter": "python",
   "pygments_lexer": "ipython3",
   "version": "3.6.0"
  }
 },
 "nbformat": 4,
 "nbformat_minor": 2
}
